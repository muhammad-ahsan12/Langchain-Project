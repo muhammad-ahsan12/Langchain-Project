{
  "nbformat": 4,
  "nbformat_minor": 0,
  "metadata": {
    "colab": {
      "provenance": []
    },
    "kernelspec": {
      "name": "python3",
      "display_name": "Python 3"
    },
    "language_info": {
      "name": "python"
    }
  },
  "cells": [
    {
      "cell_type": "code",
      "source": [
        "!pip install langchain_community\n",
        "!pip install langchain_google_community\n",
        "!pip install -U duckduckgo-search\n",
        "!pip install langchain_google_genai"
      ],
      "metadata": {
        "colab": {
          "base_uri": "https://localhost:8080/"
        },
        "id": "vKhCDnwPLEB2",
        "outputId": "53ce2d40-50ae-40c5-828b-fa8ecdb9150a"
      },
      "execution_count": 1,
      "outputs": [
        {
          "output_type": "stream",
          "name": "stdout",
          "text": [
            "Collecting langchain_community\n",
            "  Downloading langchain_community-0.2.11-py3-none-any.whl.metadata (2.7 kB)\n",
            "Requirement already satisfied: PyYAML>=5.3 in /usr/local/lib/python3.10/dist-packages (from langchain_community) (6.0.1)\n",
            "Requirement already satisfied: SQLAlchemy<3,>=1.4 in /usr/local/lib/python3.10/dist-packages (from langchain_community) (2.0.31)\n",
            "Requirement already satisfied: aiohttp<4.0.0,>=3.8.3 in /usr/local/lib/python3.10/dist-packages (from langchain_community) (3.10.0)\n",
            "Collecting dataclasses-json<0.7,>=0.5.7 (from langchain_community)\n",
            "  Downloading dataclasses_json-0.6.7-py3-none-any.whl.metadata (25 kB)\n",
            "Collecting langchain<0.3.0,>=0.2.12 (from langchain_community)\n",
            "  Downloading langchain-0.2.12-py3-none-any.whl.metadata (7.1 kB)\n",
            "Collecting langchain-core<0.3.0,>=0.2.27 (from langchain_community)\n",
            "  Downloading langchain_core-0.2.28-py3-none-any.whl.metadata (6.2 kB)\n",
            "Collecting langsmith<0.2.0,>=0.1.0 (from langchain_community)\n",
            "  Downloading langsmith-0.1.98-py3-none-any.whl.metadata (13 kB)\n",
            "Requirement already satisfied: numpy<2,>=1 in /usr/local/lib/python3.10/dist-packages (from langchain_community) (1.26.4)\n",
            "Requirement already satisfied: requests<3,>=2 in /usr/local/lib/python3.10/dist-packages (from langchain_community) (2.31.0)\n",
            "Collecting tenacity!=8.4.0,<9.0.0,>=8.1.0 (from langchain_community)\n",
            "  Downloading tenacity-8.5.0-py3-none-any.whl.metadata (1.2 kB)\n",
            "Requirement already satisfied: aiohappyeyeballs>=2.3.0 in /usr/local/lib/python3.10/dist-packages (from aiohttp<4.0.0,>=3.8.3->langchain_community) (2.3.4)\n",
            "Requirement already satisfied: aiosignal>=1.1.2 in /usr/local/lib/python3.10/dist-packages (from aiohttp<4.0.0,>=3.8.3->langchain_community) (1.3.1)\n",
            "Requirement already satisfied: attrs>=17.3.0 in /usr/local/lib/python3.10/dist-packages (from aiohttp<4.0.0,>=3.8.3->langchain_community) (23.2.0)\n",
            "Requirement already satisfied: frozenlist>=1.1.1 in /usr/local/lib/python3.10/dist-packages (from aiohttp<4.0.0,>=3.8.3->langchain_community) (1.4.1)\n",
            "Requirement already satisfied: multidict<7.0,>=4.5 in /usr/local/lib/python3.10/dist-packages (from aiohttp<4.0.0,>=3.8.3->langchain_community) (6.0.5)\n",
            "Requirement already satisfied: yarl<2.0,>=1.0 in /usr/local/lib/python3.10/dist-packages (from aiohttp<4.0.0,>=3.8.3->langchain_community) (1.9.4)\n",
            "Requirement already satisfied: async-timeout<5.0,>=4.0 in /usr/local/lib/python3.10/dist-packages (from aiohttp<4.0.0,>=3.8.3->langchain_community) (4.0.3)\n",
            "Collecting marshmallow<4.0.0,>=3.18.0 (from dataclasses-json<0.7,>=0.5.7->langchain_community)\n",
            "  Downloading marshmallow-3.21.3-py3-none-any.whl.metadata (7.1 kB)\n",
            "Collecting typing-inspect<1,>=0.4.0 (from dataclasses-json<0.7,>=0.5.7->langchain_community)\n",
            "  Downloading typing_inspect-0.9.0-py3-none-any.whl.metadata (1.5 kB)\n",
            "Collecting langchain-text-splitters<0.3.0,>=0.2.0 (from langchain<0.3.0,>=0.2.12->langchain_community)\n",
            "  Downloading langchain_text_splitters-0.2.2-py3-none-any.whl.metadata (2.1 kB)\n",
            "Requirement already satisfied: pydantic<3,>=1 in /usr/local/lib/python3.10/dist-packages (from langchain<0.3.0,>=0.2.12->langchain_community) (2.8.2)\n",
            "Collecting jsonpatch<2.0,>=1.33 (from langchain-core<0.3.0,>=0.2.27->langchain_community)\n",
            "  Downloading jsonpatch-1.33-py2.py3-none-any.whl.metadata (3.0 kB)\n",
            "Requirement already satisfied: packaging<25,>=23.2 in /usr/local/lib/python3.10/dist-packages (from langchain-core<0.3.0,>=0.2.27->langchain_community) (24.1)\n",
            "Requirement already satisfied: typing-extensions>=4.7 in /usr/local/lib/python3.10/dist-packages (from langchain-core<0.3.0,>=0.2.27->langchain_community) (4.12.2)\n",
            "Collecting orjson<4.0.0,>=3.9.14 (from langsmith<0.2.0,>=0.1.0->langchain_community)\n",
            "  Downloading orjson-3.10.6-cp310-cp310-manylinux_2_17_x86_64.manylinux2014_x86_64.whl.metadata (50 kB)\n",
            "\u001b[2K     \u001b[90m━━━━━━━━━━━━━━━━━━━━━━━━━━━━━━━━━━━━━━━━\u001b[0m \u001b[32m50.4/50.4 kB\u001b[0m \u001b[31m2.0 MB/s\u001b[0m eta \u001b[36m0:00:00\u001b[0m\n",
            "\u001b[?25hRequirement already satisfied: charset-normalizer<4,>=2 in /usr/local/lib/python3.10/dist-packages (from requests<3,>=2->langchain_community) (3.3.2)\n",
            "Requirement already satisfied: idna<4,>=2.5 in /usr/local/lib/python3.10/dist-packages (from requests<3,>=2->langchain_community) (3.7)\n",
            "Requirement already satisfied: urllib3<3,>=1.21.1 in /usr/local/lib/python3.10/dist-packages (from requests<3,>=2->langchain_community) (2.0.7)\n",
            "Requirement already satisfied: certifi>=2017.4.17 in /usr/local/lib/python3.10/dist-packages (from requests<3,>=2->langchain_community) (2024.7.4)\n",
            "Requirement already satisfied: greenlet!=0.4.17 in /usr/local/lib/python3.10/dist-packages (from SQLAlchemy<3,>=1.4->langchain_community) (3.0.3)\n",
            "Collecting jsonpointer>=1.9 (from jsonpatch<2.0,>=1.33->langchain-core<0.3.0,>=0.2.27->langchain_community)\n",
            "  Downloading jsonpointer-3.0.0-py2.py3-none-any.whl.metadata (2.3 kB)\n",
            "Requirement already satisfied: annotated-types>=0.4.0 in /usr/local/lib/python3.10/dist-packages (from pydantic<3,>=1->langchain<0.3.0,>=0.2.12->langchain_community) (0.7.0)\n",
            "Requirement already satisfied: pydantic-core==2.20.1 in /usr/local/lib/python3.10/dist-packages (from pydantic<3,>=1->langchain<0.3.0,>=0.2.12->langchain_community) (2.20.1)\n",
            "Collecting mypy-extensions>=0.3.0 (from typing-inspect<1,>=0.4.0->dataclasses-json<0.7,>=0.5.7->langchain_community)\n",
            "  Downloading mypy_extensions-1.0.0-py3-none-any.whl.metadata (1.1 kB)\n",
            "Downloading langchain_community-0.2.11-py3-none-any.whl (2.3 MB)\n",
            "\u001b[2K   \u001b[90m━━━━━━━━━━━━━━━━━━━━━━━━━━━━━━━━━━━━━━━━\u001b[0m \u001b[32m2.3/2.3 MB\u001b[0m \u001b[31m12.4 MB/s\u001b[0m eta \u001b[36m0:00:00\u001b[0m\n",
            "\u001b[?25hDownloading dataclasses_json-0.6.7-py3-none-any.whl (28 kB)\n",
            "Downloading langchain-0.2.12-py3-none-any.whl (990 kB)\n",
            "\u001b[2K   \u001b[90m━━━━━━━━━━━━━━━━━━━━━━━━━━━━━━━━━━━━━━━━\u001b[0m \u001b[32m990.6/990.6 kB\u001b[0m \u001b[31m36.0 MB/s\u001b[0m eta \u001b[36m0:00:00\u001b[0m\n",
            "\u001b[?25hDownloading langchain_core-0.2.28-py3-none-any.whl (379 kB)\n",
            "\u001b[2K   \u001b[90m━━━━━━━━━━━━━━━━━━━━━━━━━━━━━━━━━━━━━━━━\u001b[0m \u001b[32m379.9/379.9 kB\u001b[0m \u001b[31m23.3 MB/s\u001b[0m eta \u001b[36m0:00:00\u001b[0m\n",
            "\u001b[?25hDownloading langsmith-0.1.98-py3-none-any.whl (140 kB)\n",
            "\u001b[2K   \u001b[90m━━━━━━━━━━━━━━━━━━━━━━━━━━━━━━━━━━━━━━━━\u001b[0m \u001b[32m140.2/140.2 kB\u001b[0m \u001b[31m10.0 MB/s\u001b[0m eta \u001b[36m0:00:00\u001b[0m\n",
            "\u001b[?25hDownloading tenacity-8.5.0-py3-none-any.whl (28 kB)\n",
            "Downloading jsonpatch-1.33-py2.py3-none-any.whl (12 kB)\n",
            "Downloading langchain_text_splitters-0.2.2-py3-none-any.whl (25 kB)\n",
            "Downloading marshmallow-3.21.3-py3-none-any.whl (49 kB)\n",
            "\u001b[2K   \u001b[90m━━━━━━━━━━━━━━━━━━━━━━━━━━━━━━━━━━━━━━━━\u001b[0m \u001b[32m49.2/49.2 kB\u001b[0m \u001b[31m3.4 MB/s\u001b[0m eta \u001b[36m0:00:00\u001b[0m\n",
            "\u001b[?25hDownloading orjson-3.10.6-cp310-cp310-manylinux_2_17_x86_64.manylinux2014_x86_64.whl (141 kB)\n",
            "\u001b[2K   \u001b[90m━━━━━━━━━━━━━━━━━━━━━━━━━━━━━━━━━━━━━━━━\u001b[0m \u001b[32m141.1/141.1 kB\u001b[0m \u001b[31m9.4 MB/s\u001b[0m eta \u001b[36m0:00:00\u001b[0m\n",
            "\u001b[?25hDownloading typing_inspect-0.9.0-py3-none-any.whl (8.8 kB)\n",
            "Downloading jsonpointer-3.0.0-py2.py3-none-any.whl (7.6 kB)\n",
            "Downloading mypy_extensions-1.0.0-py3-none-any.whl (4.7 kB)\n",
            "Installing collected packages: tenacity, orjson, mypy-extensions, marshmallow, jsonpointer, typing-inspect, jsonpatch, langsmith, dataclasses-json, langchain-core, langchain-text-splitters, langchain, langchain_community\n",
            "  Attempting uninstall: tenacity\n",
            "    Found existing installation: tenacity 9.0.0\n",
            "    Uninstalling tenacity-9.0.0:\n",
            "      Successfully uninstalled tenacity-9.0.0\n",
            "Successfully installed dataclasses-json-0.6.7 jsonpatch-1.33 jsonpointer-3.0.0 langchain-0.2.12 langchain-core-0.2.28 langchain-text-splitters-0.2.2 langchain_community-0.2.11 langsmith-0.1.98 marshmallow-3.21.3 mypy-extensions-1.0.0 orjson-3.10.6 tenacity-8.5.0 typing-inspect-0.9.0\n",
            "Collecting langchain_google_community\n",
            "  Downloading langchain_google_community-1.0.7-py3-none-any.whl.metadata (3.4 kB)\n",
            "Requirement already satisfied: google-api-core<3.0.0,>=2.17.1 in /usr/local/lib/python3.10/dist-packages (from langchain_google_community) (2.19.1)\n",
            "Requirement already satisfied: google-api-python-client<3.0.0,>=2.122.0 in /usr/local/lib/python3.10/dist-packages (from langchain_google_community) (2.137.0)\n",
            "Requirement already satisfied: grpcio<2.0.0,>=1.62.0 in /usr/local/lib/python3.10/dist-packages (from langchain_google_community) (1.64.1)\n",
            "Requirement already satisfied: langchain-community<0.3.0,>=0.2.1 in /usr/local/lib/python3.10/dist-packages (from langchain_google_community) (0.2.11)\n",
            "Requirement already satisfied: langchain-core<0.3,>=0.2.9 in /usr/local/lib/python3.10/dist-packages (from langchain_google_community) (0.2.28)\n",
            "Collecting tenacity<8.4.0,>=8.3.0 (from langchain_google_community)\n",
            "  Downloading tenacity-8.3.0-py3-none-any.whl.metadata (1.2 kB)\n",
            "Requirement already satisfied: googleapis-common-protos<2.0.dev0,>=1.56.2 in /usr/local/lib/python3.10/dist-packages (from google-api-core<3.0.0,>=2.17.1->langchain_google_community) (1.63.2)\n",
            "Requirement already satisfied: protobuf!=3.20.0,!=3.20.1,!=4.21.0,!=4.21.1,!=4.21.2,!=4.21.3,!=4.21.4,!=4.21.5,<6.0.0.dev0,>=3.19.5 in /usr/local/lib/python3.10/dist-packages (from google-api-core<3.0.0,>=2.17.1->langchain_google_community) (3.20.3)\n",
            "Requirement already satisfied: proto-plus<2.0.0dev,>=1.22.3 in /usr/local/lib/python3.10/dist-packages (from google-api-core<3.0.0,>=2.17.1->langchain_google_community) (1.24.0)\n",
            "Requirement already satisfied: google-auth<3.0.dev0,>=2.14.1 in /usr/local/lib/python3.10/dist-packages (from google-api-core<3.0.0,>=2.17.1->langchain_google_community) (2.27.0)\n",
            "Requirement already satisfied: requests<3.0.0.dev0,>=2.18.0 in /usr/local/lib/python3.10/dist-packages (from google-api-core<3.0.0,>=2.17.1->langchain_google_community) (2.31.0)\n",
            "Requirement already satisfied: httplib2<1.dev0,>=0.19.0 in /usr/local/lib/python3.10/dist-packages (from google-api-python-client<3.0.0,>=2.122.0->langchain_google_community) (0.22.0)\n",
            "Requirement already satisfied: google-auth-httplib2<1.0.0,>=0.2.0 in /usr/local/lib/python3.10/dist-packages (from google-api-python-client<3.0.0,>=2.122.0->langchain_google_community) (0.2.0)\n",
            "Requirement already satisfied: uritemplate<5,>=3.0.1 in /usr/local/lib/python3.10/dist-packages (from google-api-python-client<3.0.0,>=2.122.0->langchain_google_community) (4.1.1)\n",
            "Requirement already satisfied: PyYAML>=5.3 in /usr/local/lib/python3.10/dist-packages (from langchain-community<0.3.0,>=0.2.1->langchain_google_community) (6.0.1)\n",
            "Requirement already satisfied: SQLAlchemy<3,>=1.4 in /usr/local/lib/python3.10/dist-packages (from langchain-community<0.3.0,>=0.2.1->langchain_google_community) (2.0.31)\n",
            "Requirement already satisfied: aiohttp<4.0.0,>=3.8.3 in /usr/local/lib/python3.10/dist-packages (from langchain-community<0.3.0,>=0.2.1->langchain_google_community) (3.10.0)\n",
            "Requirement already satisfied: dataclasses-json<0.7,>=0.5.7 in /usr/local/lib/python3.10/dist-packages (from langchain-community<0.3.0,>=0.2.1->langchain_google_community) (0.6.7)\n",
            "Requirement already satisfied: langchain<0.3.0,>=0.2.12 in /usr/local/lib/python3.10/dist-packages (from langchain-community<0.3.0,>=0.2.1->langchain_google_community) (0.2.12)\n",
            "Requirement already satisfied: langsmith<0.2.0,>=0.1.0 in /usr/local/lib/python3.10/dist-packages (from langchain-community<0.3.0,>=0.2.1->langchain_google_community) (0.1.98)\n",
            "Requirement already satisfied: numpy<2,>=1 in /usr/local/lib/python3.10/dist-packages (from langchain-community<0.3.0,>=0.2.1->langchain_google_community) (1.26.4)\n",
            "Requirement already satisfied: jsonpatch<2.0,>=1.33 in /usr/local/lib/python3.10/dist-packages (from langchain-core<0.3,>=0.2.9->langchain_google_community) (1.33)\n",
            "Requirement already satisfied: packaging<25,>=23.2 in /usr/local/lib/python3.10/dist-packages (from langchain-core<0.3,>=0.2.9->langchain_google_community) (24.1)\n",
            "Requirement already satisfied: pydantic<3,>=1 in /usr/local/lib/python3.10/dist-packages (from langchain-core<0.3,>=0.2.9->langchain_google_community) (2.8.2)\n",
            "Requirement already satisfied: typing-extensions>=4.7 in /usr/local/lib/python3.10/dist-packages (from langchain-core<0.3,>=0.2.9->langchain_google_community) (4.12.2)\n",
            "Requirement already satisfied: aiohappyeyeballs>=2.3.0 in /usr/local/lib/python3.10/dist-packages (from aiohttp<4.0.0,>=3.8.3->langchain-community<0.3.0,>=0.2.1->langchain_google_community) (2.3.4)\n",
            "Requirement already satisfied: aiosignal>=1.1.2 in /usr/local/lib/python3.10/dist-packages (from aiohttp<4.0.0,>=3.8.3->langchain-community<0.3.0,>=0.2.1->langchain_google_community) (1.3.1)\n",
            "Requirement already satisfied: attrs>=17.3.0 in /usr/local/lib/python3.10/dist-packages (from aiohttp<4.0.0,>=3.8.3->langchain-community<0.3.0,>=0.2.1->langchain_google_community) (23.2.0)\n",
            "Requirement already satisfied: frozenlist>=1.1.1 in /usr/local/lib/python3.10/dist-packages (from aiohttp<4.0.0,>=3.8.3->langchain-community<0.3.0,>=0.2.1->langchain_google_community) (1.4.1)\n",
            "Requirement already satisfied: multidict<7.0,>=4.5 in /usr/local/lib/python3.10/dist-packages (from aiohttp<4.0.0,>=3.8.3->langchain-community<0.3.0,>=0.2.1->langchain_google_community) (6.0.5)\n",
            "Requirement already satisfied: yarl<2.0,>=1.0 in /usr/local/lib/python3.10/dist-packages (from aiohttp<4.0.0,>=3.8.3->langchain-community<0.3.0,>=0.2.1->langchain_google_community) (1.9.4)\n",
            "Requirement already satisfied: async-timeout<5.0,>=4.0 in /usr/local/lib/python3.10/dist-packages (from aiohttp<4.0.0,>=3.8.3->langchain-community<0.3.0,>=0.2.1->langchain_google_community) (4.0.3)\n",
            "Requirement already satisfied: marshmallow<4.0.0,>=3.18.0 in /usr/local/lib/python3.10/dist-packages (from dataclasses-json<0.7,>=0.5.7->langchain-community<0.3.0,>=0.2.1->langchain_google_community) (3.21.3)\n",
            "Requirement already satisfied: typing-inspect<1,>=0.4.0 in /usr/local/lib/python3.10/dist-packages (from dataclasses-json<0.7,>=0.5.7->langchain-community<0.3.0,>=0.2.1->langchain_google_community) (0.9.0)\n",
            "Requirement already satisfied: cachetools<6.0,>=2.0.0 in /usr/local/lib/python3.10/dist-packages (from google-auth<3.0.dev0,>=2.14.1->google-api-core<3.0.0,>=2.17.1->langchain_google_community) (5.4.0)\n",
            "Requirement already satisfied: pyasn1-modules>=0.2.1 in /usr/local/lib/python3.10/dist-packages (from google-auth<3.0.dev0,>=2.14.1->google-api-core<3.0.0,>=2.17.1->langchain_google_community) (0.4.0)\n",
            "Requirement already satisfied: rsa<5,>=3.1.4 in /usr/local/lib/python3.10/dist-packages (from google-auth<3.0.dev0,>=2.14.1->google-api-core<3.0.0,>=2.17.1->langchain_google_community) (4.9)\n",
            "Requirement already satisfied: pyparsing!=3.0.0,!=3.0.1,!=3.0.2,!=3.0.3,<4,>=2.4.2 in /usr/local/lib/python3.10/dist-packages (from httplib2<1.dev0,>=0.19.0->google-api-python-client<3.0.0,>=2.122.0->langchain_google_community) (3.1.2)\n",
            "Requirement already satisfied: jsonpointer>=1.9 in /usr/local/lib/python3.10/dist-packages (from jsonpatch<2.0,>=1.33->langchain-core<0.3,>=0.2.9->langchain_google_community) (3.0.0)\n",
            "Requirement already satisfied: langchain-text-splitters<0.3.0,>=0.2.0 in /usr/local/lib/python3.10/dist-packages (from langchain<0.3.0,>=0.2.12->langchain-community<0.3.0,>=0.2.1->langchain_google_community) (0.2.2)\n",
            "Requirement already satisfied: orjson<4.0.0,>=3.9.14 in /usr/local/lib/python3.10/dist-packages (from langsmith<0.2.0,>=0.1.0->langchain-community<0.3.0,>=0.2.1->langchain_google_community) (3.10.6)\n",
            "Requirement already satisfied: annotated-types>=0.4.0 in /usr/local/lib/python3.10/dist-packages (from pydantic<3,>=1->langchain-core<0.3,>=0.2.9->langchain_google_community) (0.7.0)\n",
            "Requirement already satisfied: pydantic-core==2.20.1 in /usr/local/lib/python3.10/dist-packages (from pydantic<3,>=1->langchain-core<0.3,>=0.2.9->langchain_google_community) (2.20.1)\n",
            "Requirement already satisfied: charset-normalizer<4,>=2 in /usr/local/lib/python3.10/dist-packages (from requests<3.0.0.dev0,>=2.18.0->google-api-core<3.0.0,>=2.17.1->langchain_google_community) (3.3.2)\n",
            "Requirement already satisfied: idna<4,>=2.5 in /usr/local/lib/python3.10/dist-packages (from requests<3.0.0.dev0,>=2.18.0->google-api-core<3.0.0,>=2.17.1->langchain_google_community) (3.7)\n",
            "Requirement already satisfied: urllib3<3,>=1.21.1 in /usr/local/lib/python3.10/dist-packages (from requests<3.0.0.dev0,>=2.18.0->google-api-core<3.0.0,>=2.17.1->langchain_google_community) (2.0.7)\n",
            "Requirement already satisfied: certifi>=2017.4.17 in /usr/local/lib/python3.10/dist-packages (from requests<3.0.0.dev0,>=2.18.0->google-api-core<3.0.0,>=2.17.1->langchain_google_community) (2024.7.4)\n",
            "Requirement already satisfied: greenlet!=0.4.17 in /usr/local/lib/python3.10/dist-packages (from SQLAlchemy<3,>=1.4->langchain-community<0.3.0,>=0.2.1->langchain_google_community) (3.0.3)\n",
            "Requirement already satisfied: pyasn1<0.7.0,>=0.4.6 in /usr/local/lib/python3.10/dist-packages (from pyasn1-modules>=0.2.1->google-auth<3.0.dev0,>=2.14.1->google-api-core<3.0.0,>=2.17.1->langchain_google_community) (0.6.0)\n",
            "Requirement already satisfied: mypy-extensions>=0.3.0 in /usr/local/lib/python3.10/dist-packages (from typing-inspect<1,>=0.4.0->dataclasses-json<0.7,>=0.5.7->langchain-community<0.3.0,>=0.2.1->langchain_google_community) (1.0.0)\n",
            "Downloading langchain_google_community-1.0.7-py3-none-any.whl (75 kB)\n",
            "\u001b[2K   \u001b[90m━━━━━━━━━━━━━━━━━━━━━━━━━━━━━━━━━━━━━━━━\u001b[0m \u001b[32m75.5/75.5 kB\u001b[0m \u001b[31m887.4 kB/s\u001b[0m eta \u001b[36m0:00:00\u001b[0m\n",
            "\u001b[?25hDownloading tenacity-8.3.0-py3-none-any.whl (25 kB)\n",
            "Installing collected packages: tenacity, langchain_google_community\n",
            "  Attempting uninstall: tenacity\n",
            "    Found existing installation: tenacity 8.5.0\n",
            "    Uninstalling tenacity-8.5.0:\n",
            "      Successfully uninstalled tenacity-8.5.0\n",
            "Successfully installed langchain_google_community-1.0.7 tenacity-8.3.0\n"
          ]
        }
      ]
    },
    {
      "cell_type": "code",
      "source": [
        "from langchain_community.tools import DuckDuckGoSearchRun    #1\n",
        "from langchain_community.tools import DuckDuckGoSearchResults  #2\n",
        "from langchain_community.utilities import SearxSearchWrapper\n",
        "from langchain_community.tools import WikipediaQueryRun\n",
        "from langchain_community.utilities import WikipediaAPIWrapper\n",
        "from langchain.agents import initialize_agent, Tool\n",
        "from langchain_google_genai import ChatGoogleGenerativeAI,GoogleGenerativeAI\n",
        "import os\n",
        "os.environ[\"GOOGLE_API_KEY\"] = \"\""
      ],
      "metadata": {
        "id": "SaD4VeJsKIxW"
      },
      "execution_count": 155,
      "outputs": []
    },
    {
      "cell_type": "code",
      "source": [
        "llm = GoogleGenerativeAI(model='gemini-pro', temperature=0.5)\n",
        "\n",
        "duckduckgo_search = DuckDuckGoSearchRun() #1\n",
        "search = DuckDuckGoSearchResults() #2\n",
        "\n",
        "api_wrapper = WikipediaAPIWrapper(top_k_results=1, doc_content_chars_max=100)\n",
        "wiki = WikipediaQueryRun(api_wrapper=api_wrapper)\n",
        "\n",
        "tools = [search,wiki]\n"
      ],
      "metadata": {
        "id": "jC-ZPCRVLM_h"
      },
      "execution_count": 156,
      "outputs": []
    },
    {
      "cell_type": "code",
      "source": [
        "agent = initialize_agent(tools, llm, agent=\"zero-shot-react-description\", verbose=True, handle_parsing_errors=True)"
      ],
      "metadata": {
        "id": "oswdJKcFOuRm"
      },
      "execution_count": 157,
      "outputs": []
    },
    {
      "cell_type": "code",
      "source": [
        "responce = agent.invoke(\"what is computer science and also explain the braches of computer science, and What are the latest developments in renewable energy?\")\n",
        "responce"
      ],
      "metadata": {
        "colab": {
          "base_uri": "https://localhost:8080/"
        },
        "id": "mOxuPf_LPdlA",
        "outputId": "1c808fae-fe9d-48b8-ef5a-5c47515c511f"
      },
      "execution_count": 158,
      "outputs": [
        {
          "output_type": "stream",
          "name": "stdout",
          "text": [
            "\n",
            "\n",
            "\u001b[1m> Entering new AgentExecutor chain...\u001b[0m\n",
            "\u001b[32;1m\u001b[1;3mI should search the web for the definition of computer science and its branches. I should also search the web for the latest developments in renewable energy.\n",
            "Action: duckduckgo_results_json\n",
            "Action Input: what is computer science\u001b[0m\n",
            "Observation: \u001b[36;1m\u001b[1;3m[snippet: Computer science is the study of computers and computing, including their theoretical and algorithmic foundations, hardware and software, and their uses for processing information. Learn about the history, subfields, and applications of computer science from Britannica's experts., title: Computer science | Definition, Types, & Facts | Britannica, link: https://www.britannica.com/science/computer-science], [snippet: Computer science is the study of computers and computational systems. It includes various subareas, such as machine learning, AI, and software engineering. Learn about the careers, salaries, and skills of computer scientists at Michigan Tech., title: What is Computer Science? | Michigan Technological University, link: https://www.mtu.edu/cs/what/], [snippet: Computer science is the study of computers and computational systems. It encompasses the theory, design, development, and application of the software and hardware components that make up these systems. With its interdisciplinary nature, computer science has driven innovation in healthcare, finance, transportation, and entertainment., title: What Is Computer Science? Definition, Uses, and Importance - Spiceworks, link: https://www.spiceworks.com/tech/tech-general/articles/computer-science/], [snippet: Computer science is the study of computers and computing, focusing on software and hardware. Learn about the skills, jobs, salaries, and specializations in this field, as well as how to get into it with a degree or a bootcamp., title: Computer Science Guide | BestColleges, link: https://www.bestcolleges.com/computer-science/what-is-computer-science/]\u001b[0m\n",
            "Thought:\u001b[32;1m\u001b[1;3mNow I should search the web for the branches of computer science.\n",
            "Action: duckduckgo_results_json\n",
            "Action Input: branches of computer science\u001b[0m\n",
            "Observation: \u001b[36;1m\u001b[1;3m[snippet: Fields of study in computer science. Here are 15 computer science disciplines you can explore: 1. Artificial intelligence. Artificial intelligence, or AI, is the study and design of systems that can function autonomously from human input. Examples of AI are programs that offer music recommendations based on your previous listening habits or ..., title: 15 Computer Science Fields | Indeed.com, link: https://www.indeed.com/career-advice/finding-a-job/computer-science-fields], [snippet: Learn about the study of computers and computing, including their theoretical and algorithmic foundations, hardware and software, and their uses for processing information. Explore the major subfields, history, and applications of computer science., title: Computer science | Definition, Types, & Facts | Britannica, link: https://www.britannica.com/science/computer-science], [snippet: Let's take a look at the 12 best computer science specializations: 1. Artificial Intelligence. Description: Artificial intelligence (AI) is the study of how to create computer systems that can think and learn. AI systems are able to solve problems and make decisions on their own, and they are getting better every day., title: 12 Best Computer Science Specializations in 2024 - CS Careerline, link: https://cscareerline.com/12-best-computer-science-specializations-in-2022/], [snippet: Learn about the various branches of computer science, such as artificial intelligence, software engineering, data science, and more. Discover the essential aspects, applications, and skills of each branch in this comprehensive article., title: What Are the Branches of Computer Science? - SourceBae, link: https://sourcebae.com/blog/what-are-the-branches-of-computer-science/]\u001b[0m\n",
            "Thought:\u001b[32;1m\u001b[1;3mNow I should search the web for the latest developments in renewable energy.\n",
            "Action: duckduckgo_results_json\n",
            "Action Input: latest developments in renewable energy\u001b[0m\n",
            "Observation: \u001b[36;1m\u001b[1;3m[snippet: Apr. 15, 2024 — The technology revolution and development of new renewable energy resources is driving demand for lithium to new heights, but it is not a common mineral. Scientists say they have ..., title: Renewable Energy News -- ScienceDaily, link: https://www.sciencedaily.com/news/earth_climate/renewable_energy/], [snippet: The need for renewable energy innovation has never been greater. In its 2023 report, Fostering Effective Energy Transition, the World Economic Forum says that 95% of countries have improved their total Energy Transition Index score over the past decade, but there has been only \"marginal growth\" in the past three years. Discover., title: 5 smart renewable energy innovations - The World Economic Forum, link: https://www.weforum.org/agenda/2023/09/renewable-energy-innovations-climate-emergency/], [snippet: The Energy Information Administration expects renewable deployment to grow by 17% to 42 GW in 2024 and account for almost a quarter of electricity generation. 5 The estimate falls below the low end of the National Renewable Energy Laboratory's assessment that Inflation Reduction Act (IRA) and Infrastructure Investment and Jobs Act (IIJA ..., title: 2024 renewable energy industry outlook | Deloitte Insights, link: https://www2.deloitte.com/us/en/insights/industry/renewable-energy/renewable-energy-industry-outlook.html], [snippet: The latest analysis is the first comprehensive assessment of global renewable energy deployment trends since the conclusion of the COP28 conference in Dubai in December. The report shows that under existing policies and market conditions, global renewable power capacity is now expected to grow to 7 300 GW over the 2023-28 period covered by the ..., title: Massive expansion of renewable power opens door to achieving global ..., link: https://www.iea.org/news/massive-expansion-of-renewable-power-opens-door-to-achieving-global-tripling-goal-set-at-cop28]\u001b[0m\n",
            "Thought:\u001b[32;1m\u001b[1;3mI now know the final answer\n",
            "Final Answer: Computer science is the study of computers and computing, including their theoretical and algorithmic foundations, hardware and software, and their uses for processing information. The branches of computer science include:\n",
            "\n",
            "* Artificial intelligence\n",
            "* Software engineering\n",
            "* Data science\n",
            "* Computer graphics\n",
            "* Computer networks\n",
            "* Cybersecurity\n",
            "* Human-computer interaction\n",
            "* Information systems\n",
            "* Operations research\n",
            "* Scientific computing\n",
            "* Theoretical computer science\n",
            "\n",
            "The latest developments in renewable energy include:\n",
            "\n",
            "* The development of new solar and wind technologies\n",
            "* The increasing use of battery storage\n",
            "* The development of new renewable energy sources, such as hydrogen and geothermal energy\n",
            "* The increasing use of renewable energy in transportation and heating\u001b[0m\n",
            "\n",
            "\u001b[1m> Finished chain.\u001b[0m\n"
          ]
        },
        {
          "output_type": "execute_result",
          "data": {
            "text/plain": [
              "{'input': 'what is computer science and also explain the braches of computer science, and What are the latest developments in renewable energy?',\n",
              " 'output': 'Computer science is the study of computers and computing, including their theoretical and algorithmic foundations, hardware and software, and their uses for processing information. The branches of computer science include:\\n\\n* Artificial intelligence\\n* Software engineering\\n* Data science\\n* Computer graphics\\n* Computer networks\\n* Cybersecurity\\n* Human-computer interaction\\n* Information systems\\n* Operations research\\n* Scientific computing\\n* Theoretical computer science\\n\\nThe latest developments in renewable energy include:\\n\\n* The development of new solar and wind technologies\\n* The increasing use of battery storage\\n* The development of new renewable energy sources, such as hydrogen and geothermal energy\\n* The increasing use of renewable energy in transportation and heating'}"
            ]
          },
          "metadata": {},
          "execution_count": 158
        }
      ]
    },
    {
      "cell_type": "code",
      "source": [
        "agent.run(\"What is the current status of the COVID-19 pandemic\")"
      ],
      "metadata": {
        "colab": {
          "base_uri": "https://localhost:8080/",
          "height": 316
        },
        "id": "DrN7Mr8Ra4Jk",
        "outputId": "05f1c6a9-70cd-4f22-947f-4b5cdf6e04e8"
      },
      "execution_count": 159,
      "outputs": [
        {
          "output_type": "stream",
          "name": "stdout",
          "text": [
            "\n",
            "\n",
            "\u001b[1m> Entering new AgentExecutor chain...\u001b[0m\n",
            "\u001b[32;1m\u001b[1;3mAction: duckduckgo_results_json\n",
            "Action Input: what is the current status of the covid-19 pandemic\u001b[0m\n",
            "Observation: \u001b[36;1m\u001b[1;3m[snippet: Summer wave of COVID-19 hitting U.S. 04:33 More than half of states are now seeing \"high\" or \"very high\" levels of SARS-CoV-2, the virus that causes COVID-19, in their wastewater testing ..., title: Map shows states where COVID levels are \"high\" or \"very high\" as summer ..., link: https://www.cbsnews.com/news/map-covid-levels-states-summer-2024/], [snippet: Covid rates are still rising across most of the country, fueled by the highly contagious new variants of the virus — KP.2 and KP.3 and LB.1. As of July 18, the highest levels of Covid are in the ..., title: Covid variant surge: Latest CDC guidelines on isolation and symptoms as ..., link: https://www.nbcnews.com/health/health-news/covid-isolation-guidelines-cdc-updated-positive-cases-rcna163292], [snippet: People who test positive for Covid-19 no longer need to routinely stay away from others for at least five days, according to new guidelines from the US Centers for Disease Control and Prevention ..., title: CDC drops 5-day isolation guidance for Covid-19, moving away from ... - CNN, link: https://www.cnn.com/2024/03/01/health/cdc-covid-isolation-recommendations/index.html], [snippet: The terminology can be confusing—for example, the World Health Organization still calls COVID-19 a pandemic, even after declaring an end to the public health emergency last spring. The Brink asked three Boston University researchers—a virologist, an epidemiologist, and an emergency room physician—to explain the shifting status of COVID ..., title: Is COVID-19 Still a Pandemic? | The Brink | Boston University, link: https://www.bu.edu/articles/2024/is-covid-19-still-a-pandemic/]\u001b[0m\n",
            "Thought:\u001b[32;1m\u001b[1;3mAction: wikipedia\n",
            "Action Input: COVID-19 pandemic\u001b[0m\n",
            "Observation: \u001b[33;1m\u001b[1;3mPage: COVID-19 pandemic\n",
            "Summary: The COVID-19 pandemic (also known as the coronavirus pandemic), cau\u001b[0m\n",
            "Thought:\u001b[32;1m\u001b[1;3mI now know the final answer\n",
            "Final Answer: The COVID-19 pandemic is still ongoing, with summer waves hitting the US and high levels of SARS-CoV-2 in wastewater testing in more than half of states. The CDC has dropped the 5-day isolation guidance for Covid-19, moving away from the previous guidelines.\u001b[0m\n",
            "\n",
            "\u001b[1m> Finished chain.\u001b[0m\n"
          ]
        },
        {
          "output_type": "execute_result",
          "data": {
            "text/plain": [
              "'The COVID-19 pandemic is still ongoing, with summer waves hitting the US and high levels of SARS-CoV-2 in wastewater testing in more than half of states. The CDC has dropped the 5-day isolation guidance for Covid-19, moving away from the previous guidelines.'"
            ],
            "application/vnd.google.colaboratory.intrinsic+json": {
              "type": "string"
            }
          },
          "metadata": {},
          "execution_count": 159
        }
      ]
    },
    {
      "cell_type": "code",
      "source": [
        "from langchain_community.utilities import DuckDuckGoSearchAPIWrapper\n",
        "wrapper = DuckDuckGoSearchAPIWrapper(region=\"de-de\", time=\"d\", max_results=2)\n",
        "search = DuckDuckGoSearchResults(api_wrapper=wrapper, source=\"news\")\n",
        "\n",
        "search.invoke(\"Obama\")"
      ],
      "metadata": {
        "colab": {
          "base_uri": "https://localhost:8080/",
          "height": 140
        },
        "id": "-FkZ8ONuaF4e",
        "outputId": "3fd8e0c4-26d7-4325-9656-8bd1c749485d"
      },
      "execution_count": 130,
      "outputs": [
        {
          "output_type": "execute_result",
          "data": {
            "text/plain": [
              "'[snippet: Josh Shapiro: Kandidat für US-Vize neu auf nationaler politischer Bühne. Besonders letzterem werden große Chancen eingeräumt - er wird schon seit längerem für höhere Ämter gehandelt. Als ..., title: Josh Shapiro als Vize von Kamala Harris? Das ist über ihn bekannt, link: https://www.morgenpost.de/politik/article406959328/josh-shapiro-wer-ist-der-moegliche-vize-an-harrisE28099-seite.html], [snippet: Die demokratische Präsidentschaftskandidatin suchte das Wochenende über nach ihrem „Running Mate\" - in einem beschleunigten Prozess. Zwei Kandidaten stehen noch zur engeren Wahl. Am ..., title: Zwei Bewerber noch übrig: Wie Kamala Harris ihren Vize-Kandidaten ..., link: https://www.diepresse.com/18736866/zwei-bewerber-noch-uebrig-wie-kamala-harris-ihren-vize-kandidaten-auf-herz-und-nieren-pruefte], [snippet: The Daily Beast mutmaßt, dass Obama Harris hilft, Kontakt zu Trump-feindlichen Republikanern aufzunehmen. Ein weiterer interessanter Harris-Unterstützer ist überdies Adam Kinzinger., title: Ehemalige Berater von „Tyrann\" Trump unterstützen nun Harris, link: https://www.merkur.de/politik/ehemalige-berater-von-tyrann-trump-unterstuetzen-nun-harris-zr-93226635.html], [snippet: On Aug. 6, 2012, U.S. President Barack Obama signed legislation that bans protests within 300 feet of military funerals 2 hours before or after the services., title: On This Day, Aug. 6: Obama bans protests at military funerals - Yahoo, link: https://www.yahoo.com/news/day-aug-6-obama-bans-070007921.html]'"
            ],
            "application/vnd.google.colaboratory.intrinsic+json": {
              "type": "string"
            }
          },
          "metadata": {},
          "execution_count": 130
        }
      ]
    },
    {
      "cell_type": "code",
      "source": [
        "!pip install arxiv\n",
        "!pip install langchainhub"
      ],
      "metadata": {
        "colab": {
          "base_uri": "https://localhost:8080/"
        },
        "id": "CjQryVMgcCUt",
        "outputId": "4e0d12c3-faa5-40e0-97d8-fea914891f15"
      },
      "execution_count": 137,
      "outputs": [
        {
          "output_type": "stream",
          "name": "stdout",
          "text": [
            "Requirement already satisfied: arxiv in /usr/local/lib/python3.10/dist-packages (2.1.3)\n",
            "Requirement already satisfied: feedparser~=6.0.10 in /usr/local/lib/python3.10/dist-packages (from arxiv) (6.0.11)\n",
            "Requirement already satisfied: requests~=2.32.0 in /usr/local/lib/python3.10/dist-packages (from arxiv) (2.32.3)\n",
            "Requirement already satisfied: sgmllib3k in /usr/local/lib/python3.10/dist-packages (from feedparser~=6.0.10->arxiv) (1.0.0)\n",
            "Requirement already satisfied: charset-normalizer<4,>=2 in /usr/local/lib/python3.10/dist-packages (from requests~=2.32.0->arxiv) (3.3.2)\n",
            "Requirement already satisfied: idna<4,>=2.5 in /usr/local/lib/python3.10/dist-packages (from requests~=2.32.0->arxiv) (3.7)\n",
            "Requirement already satisfied: urllib3<3,>=1.21.1 in /usr/local/lib/python3.10/dist-packages (from requests~=2.32.0->arxiv) (2.0.7)\n",
            "Requirement already satisfied: certifi>=2017.4.17 in /usr/local/lib/python3.10/dist-packages (from requests~=2.32.0->arxiv) (2024.7.4)\n",
            "Collecting langchainhub\n",
            "  Downloading langchainhub-0.1.20-py3-none-any.whl.metadata (659 bytes)\n",
            "Requirement already satisfied: packaging<25,>=23.2 in /usr/local/lib/python3.10/dist-packages (from langchainhub) (24.1)\n",
            "Requirement already satisfied: requests<3,>=2 in /usr/local/lib/python3.10/dist-packages (from langchainhub) (2.32.3)\n",
            "Collecting types-requests<3.0.0.0,>=2.31.0.2 (from langchainhub)\n",
            "  Downloading types_requests-2.32.0.20240712-py3-none-any.whl.metadata (1.9 kB)\n",
            "Requirement already satisfied: charset-normalizer<4,>=2 in /usr/local/lib/python3.10/dist-packages (from requests<3,>=2->langchainhub) (3.3.2)\n",
            "Requirement already satisfied: idna<4,>=2.5 in /usr/local/lib/python3.10/dist-packages (from requests<3,>=2->langchainhub) (3.7)\n",
            "Requirement already satisfied: urllib3<3,>=1.21.1 in /usr/local/lib/python3.10/dist-packages (from requests<3,>=2->langchainhub) (2.0.7)\n",
            "Requirement already satisfied: certifi>=2017.4.17 in /usr/local/lib/python3.10/dist-packages (from requests<3,>=2->langchainhub) (2024.7.4)\n",
            "Downloading langchainhub-0.1.20-py3-none-any.whl (5.0 kB)\n",
            "Downloading types_requests-2.32.0.20240712-py3-none-any.whl (15 kB)\n",
            "Installing collected packages: types-requests, langchainhub\n",
            "Successfully installed langchainhub-0.1.20 types-requests-2.32.0.20240712\n"
          ]
        }
      ]
    },
    {
      "cell_type": "code",
      "source": [
        "from langchain import hub\n",
        "from langchain.agents import AgentExecutor, create_react_agent, load_tools\n",
        "\n",
        "tools = load_tools(\n",
        "    [\"arxiv\"],\n",
        ")\n",
        "prompt = hub.pull(\"hwchase17/react\")\n",
        "\n",
        "agent = create_react_agent(llm, tools, prompt)\n",
        "agent_executor = AgentExecutor(agent=agent, tools=tools, verbose=True)\n",
        "responce = agent_executor.invoke(\n",
        "    {\n",
        "        \"input\": \"tell me about CNN ?\",\n",
        "    }\n",
        ")\n",
        "responce"
      ],
      "metadata": {
        "colab": {
          "base_uri": "https://localhost:8080/"
        },
        "id": "4s4B5fikd_oz",
        "outputId": "79b4a1cb-9f71-4a19-b042-4cfc0532467e"
      },
      "execution_count": 145,
      "outputs": [
        {
          "output_type": "stream",
          "name": "stdout",
          "text": [
            "\n",
            "\n",
            "\u001b[1m> Entering new AgentExecutor chain...\u001b[0m\n",
            "\u001b[32;1m\u001b[1;3mCNN is a type of neural network. I can use Arxiv to learn more about it.\n",
            "Action: arxiv\n",
            "Action Input: what is CNN?\u001b[0m\u001b[36;1m\u001b[1;3mPublished: 2021-12-20\n",
            "Title: Driver Drowsiness Detection Using Ensemble Convolutional Neural Networks on YawDD\n",
            "Authors: Rais Mohammad Salman, Mahbubur Rashid, Rupal Roy, Md Manjurul Ahsan, Zahed Siddique\n",
            "Summary: Driver drowsiness detection using videos/images is one of the most essential\n",
            "areas in today's time for driver safety. The development of deep learning\n",
            "techniques, notably Convolutional Neural Networks (CNN), applied in computer\n",
            "vision applications such as drowsiness detection, has shown promising results\n",
            "due to the tremendous increase in technology in the recent few decades. Eyes\n",
            "that are closed or blinking excessively, yawning, nodding, and occlusion are\n",
            "all key aspects of drowsiness. In this work, we have applied four different\n",
            "Convolutional Neural Network (CNN) techniques on the YawDD dataset to detect\n",
            "and examine the extent of drowsiness depending on the yawning frequency with\n",
            "specific pose and occlusion variation. Preliminary computational results show\n",
            "that our proposed Ensemble Convolutional Neural Network (ECNN) outperformed the\n",
            "traditional CNN-based approach by achieving an F1 score of 0.935, whereas the\n",
            "other three CNN, such as CNN1, CNN2, and CNN3 approaches gained 0.92, 0.90, and\n",
            "0.912 F1 scores, respectively.\n",
            "\n",
            "Published: 2019-01-20\n",
            "Title: Learning with Collaborative Neural Network Group by Reflection\n",
            "Authors: Liyao Gao, Zehua Cheng\n",
            "Summary: For the present engineering of neural systems, the preparing of extensive\n",
            "scale learning undertakings generally not just requires a huge neural system\n",
            "with a mind boggling preparing process yet additionally troublesome discover a\n",
            "clarification for genuine applications. In this paper, we might want to present\n",
            "the Collaborative Neural Network Group (CNNG). CNNG is a progression of neural\n",
            "systems that work cooperatively to deal with various errands independently in a\n",
            "similar learning framework. It is advanced from a solitary neural system by\n",
            "reflection. Along these lines, in light of various circumstances removed by the\n",
            "calculation, the CNNG can perform diverse techniques when handling the\n",
            "information. The examples of chose methodology can be seen by human to make\n",
            "profound adapting more reasonable. In our execution, the CNNG is joined by a\n",
            "few moderately little neural systems. We give a progression of examinations to\n",
            "assess the execution of CNNG contrasted with other learning strategies. The\n",
            "CNNG is able to get a higher accuracy with a much lower training cost. We can\n",
            "reduce the error rate by 74.5% and reached the accuracy of 99.45% in MNIST with\n",
            "three feedforward networks (4 layers) in one training epoch.\n",
            "\n",
            "Published: 2016-04-19\n",
            "Title: Ab initio Study of Aspirin Adsorption on Single-walled Carbon and Carbon Nitride Nanotubes\n",
            "Authors: Yongju Lee, Dae-Gyeon Kwon, Gunn Kim, Young-Kyun Kwon\n",
            "Summary: We use ab intio density functional theory to investigate the adsorption\n",
            "properties of acetylsalicylic acid or aspirin on a (10, 0) carbon nanotube\n",
            "(CNT) and a (8, 0) triazine-based graphitic carbon nitride nanotube (CNNT). It\n",
            "is found that an aspirin molecule binds stronger to the CNNT with its\n",
            "adsorption energy of 0.67 eV than to the CNT with 0.51 eV. The stronger\n",
            "adsorption energy on the CNNT is ascribed to the high reactivity of its N atoms\n",
            "with high electron affinity. The CNNT exhibits local electric dipole moments,\n",
            "which cause strong charge redistribution in the aspirin molecule adsorbed on\n",
            "the CNNT than on the CNT. We also explore the influence of an external electric\n",
            "field on the adsorption properties of aspirin on these nanotubes by examining\n",
            "the modifications in their electronic band structures, partial densities of\n",
            "states, and charge distributions. It is found that an electric field applied\n",
            "along a particular direction induces aspirin molecular states in the in-gap\n",
            "region of the CNNT implying a potential application of aspirin detection.\u001b[0m\u001b[32;1m\u001b[1;3mCNN is a type of neural network. I can use Arxiv to learn more about it.\n",
            "Action: arxiv\n",
            "Action Input: what is CNN?\u001b[0m\u001b[36;1m\u001b[1;3mPublished: 2021-12-20\n",
            "Title: Driver Drowsiness Detection Using Ensemble Convolutional Neural Networks on YawDD\n",
            "Authors: Rais Mohammad Salman, Mahbubur Rashid, Rupal Roy, Md Manjurul Ahsan, Zahed Siddique\n",
            "Summary: Driver drowsiness detection using videos/images is one of the most essential\n",
            "areas in today's time for driver safety. The development of deep learning\n",
            "techniques, notably Convolutional Neural Networks (CNN), applied in computer\n",
            "vision applications such as drowsiness detection, has shown promising results\n",
            "due to the tremendous increase in technology in the recent few decades. Eyes\n",
            "that are closed or blinking excessively, yawning, nodding, and occlusion are\n",
            "all key aspects of drowsiness. In this work, we have applied four different\n",
            "Convolutional Neural Network (CNN) techniques on the YawDD dataset to detect\n",
            "and examine the extent of drowsiness depending on the yawning frequency with\n",
            "specific pose and occlusion variation. Preliminary computational results show\n",
            "that our proposed Ensemble Convolutional Neural Network (ECNN) outperformed the\n",
            "traditional CNN-based approach by achieving an F1 score of 0.935, whereas the\n",
            "other three CNN, such as CNN1, CNN2, and CNN3 approaches gained 0.92, 0.90, and\n",
            "0.912 F1 scores, respectively.\n",
            "\n",
            "Published: 2019-01-20\n",
            "Title: Learning with Collaborative Neural Network Group by Reflection\n",
            "Authors: Liyao Gao, Zehua Cheng\n",
            "Summary: For the present engineering of neural systems, the preparing of extensive\n",
            "scale learning undertakings generally not just requires a huge neural system\n",
            "with a mind boggling preparing process yet additionally troublesome discover a\n",
            "clarification for genuine applications. In this paper, we might want to present\n",
            "the Collaborative Neural Network Group (CNNG). CNNG is a progression of neural\n",
            "systems that work cooperatively to deal with various errands independently in a\n",
            "similar learning framework. It is advanced from a solitary neural system by\n",
            "reflection. Along these lines, in light of various circumstances removed by the\n",
            "calculation, the CNNG can perform diverse techniques when handling the\n",
            "information. The examples of chose methodology can be seen by human to make\n",
            "profound adapting more reasonable. In our execution, the CNNG is joined by a\n",
            "few moderately little neural systems. We give a progression of examinations to\n",
            "assess the execution of CNNG contrasted with other learning strategies. The\n",
            "CNNG is able to get a higher accuracy with a much lower training cost. We can\n",
            "reduce the error rate by 74.5% and reached the accuracy of 99.45% in MNIST with\n",
            "three feedforward networks (4 layers) in one training epoch.\n",
            "\n",
            "Published: 2016-04-19\n",
            "Title: Ab initio Study of Aspirin Adsorption on Single-walled Carbon and Carbon Nitride Nanotubes\n",
            "Authors: Yongju Lee, Dae-Gyeon Kwon, Gunn Kim, Young-Kyun Kwon\n",
            "Summary: We use ab intio density functional theory to investigate the adsorption\n",
            "properties of acetylsalicylic acid or aspirin on a (10, 0) carbon nanotube\n",
            "(CNT) and a (8, 0) triazine-based graphitic carbon nitride nanotube (CNNT). It\n",
            "is found that an aspirin molecule binds stronger to the CNNT with its\n",
            "adsorption energy of 0.67 eV than to the CNT with 0.51 eV. The stronger\n",
            "adsorption energy on the CNNT is ascribed to the high reactivity of its N atoms\n",
            "with high electron affinity. The CNNT exhibits local electric dipole moments,\n",
            "which cause strong charge redistribution in the aspirin molecule adsorbed on\n",
            "the CNNT than on the CNT. We also explore the influence of an external electric\n",
            "field on the adsorption properties of aspirin on these nanotubes by examining\n",
            "the modifications in their electronic band structures, partial densities of\n",
            "states, and charge distributions. It is found that an electric field applied\n",
            "along a particular direction induces aspirin molecular states in the in-gap\n",
            "region of the CNNT implying a potential application of aspirin detection.\u001b[0m\u001b[32;1m\u001b[1;3mCNN is a type of neural network. I can use Arxiv to learn more about it.\n",
            "Action: arxiv\n",
            "Action Input: what is CNN?\u001b[0m\u001b[36;1m\u001b[1;3mPublished: 2021-12-20\n",
            "Title: Driver Drowsiness Detection Using Ensemble Convolutional Neural Networks on YawDD\n",
            "Authors: Rais Mohammad Salman, Mahbubur Rashid, Rupal Roy, Md Manjurul Ahsan, Zahed Siddique\n",
            "Summary: Driver drowsiness detection using videos/images is one of the most essential\n",
            "areas in today's time for driver safety. The development of deep learning\n",
            "techniques, notably Convolutional Neural Networks (CNN), applied in computer\n",
            "vision applications such as drowsiness detection, has shown promising results\n",
            "due to the tremendous increase in technology in the recent few decades. Eyes\n",
            "that are closed or blinking excessively, yawning, nodding, and occlusion are\n",
            "all key aspects of drowsiness. In this work, we have applied four different\n",
            "Convolutional Neural Network (CNN) techniques on the YawDD dataset to detect\n",
            "and examine the extent of drowsiness depending on the yawning frequency with\n",
            "specific pose and occlusion variation. Preliminary computational results show\n",
            "that our proposed Ensemble Convolutional Neural Network (ECNN) outperformed the\n",
            "traditional CNN-based approach by achieving an F1 score of 0.935, whereas the\n",
            "other three CNN, such as CNN1, CNN2, and CNN3 approaches gained 0.92, 0.90, and\n",
            "0.912 F1 scores, respectively.\n",
            "\n",
            "Published: 2019-01-20\n",
            "Title: Learning with Collaborative Neural Network Group by Reflection\n",
            "Authors: Liyao Gao, Zehua Cheng\n",
            "Summary: For the present engineering of neural systems, the preparing of extensive\n",
            "scale learning undertakings generally not just requires a huge neural system\n",
            "with a mind boggling preparing process yet additionally troublesome discover a\n",
            "clarification for genuine applications. In this paper, we might want to present\n",
            "the Collaborative Neural Network Group (CNNG). CNNG is a progression of neural\n",
            "systems that work cooperatively to deal with various errands independently in a\n",
            "similar learning framework. It is advanced from a solitary neural system by\n",
            "reflection. Along these lines, in light of various circumstances removed by the\n",
            "calculation, the CNNG can perform diverse techniques when handling the\n",
            "information. The examples of chose methodology can be seen by human to make\n",
            "profound adapting more reasonable. In our execution, the CNNG is joined by a\n",
            "few moderately little neural systems. We give a progression of examinations to\n",
            "assess the execution of CNNG contrasted with other learning strategies. The\n",
            "CNNG is able to get a higher accuracy with a much lower training cost. We can\n",
            "reduce the error rate by 74.5% and reached the accuracy of 99.45% in MNIST with\n",
            "three feedforward networks (4 layers) in one training epoch.\n",
            "\n",
            "Published: 2016-04-19\n",
            "Title: Ab initio Study of Aspirin Adsorption on Single-walled Carbon and Carbon Nitride Nanotubes\n",
            "Authors: Yongju Lee, Dae-Gyeon Kwon, Gunn Kim, Young-Kyun Kwon\n",
            "Summary: We use ab intio density functional theory to investigate the adsorption\n",
            "properties of acetylsalicylic acid or aspirin on a (10, 0) carbon nanotube\n",
            "(CNT) and a (8, 0) triazine-based graphitic carbon nitride nanotube (CNNT). It\n",
            "is found that an aspirin molecule binds stronger to the CNNT with its\n",
            "adsorption energy of 0.67 eV than to the CNT with 0.51 eV. The stronger\n",
            "adsorption energy on the CNNT is ascribed to the high reactivity of its N atoms\n",
            "with high electron affinity. The CNNT exhibits local electric dipole moments,\n",
            "which cause strong charge redistribution in the aspirin molecule adsorbed on\n",
            "the CNNT than on the CNT. We also explore the influence of an external electric\n",
            "field on the adsorption properties of aspirin on these nanotubes by examining\n",
            "the modifications in their electronic band structures, partial densities of\n",
            "states, and charge distributions. It is found that an electric field applied\n",
            "along a particular direction induces aspirin molecular states in the in-gap\n",
            "region of the CNNT implying a potential application of aspirin detection.\u001b[0m\u001b[32;1m\u001b[1;3mI now know the final answer\n",
            "Final Answer: CNN is a type of neural network that is used in computer vision applications. It is a type of deep learning model that is able to learn from data and make predictions. CNNs are often used for image classification, object detection, and facial recognition.\u001b[0m\n",
            "\n",
            "\u001b[1m> Finished chain.\u001b[0m\n"
          ]
        },
        {
          "output_type": "execute_result",
          "data": {
            "text/plain": [
              "{'input': 'tell me about CNN ?',\n",
              " 'output': 'CNN is a type of neural network that is used in computer vision applications. It is a type of deep learning model that is able to learn from data and make predictions. CNNs are often used for image classification, object detection, and facial recognition.'}"
            ]
          },
          "metadata": {},
          "execution_count": 145
        }
      ]
    },
    {
      "cell_type": "markdown",
      "source": [
        "# With Prompt"
      ],
      "metadata": {
        "id": "kw6Vgeizgofx"
      }
    },
    {
      "cell_type": "code",
      "source": [
        "from langchain_core.prompts import ChatPromptTemplate, MessagesPlaceholder\n",
        "\n",
        "tools = [search, wiki]\n",
        "\n",
        "# Custom prompt template\n",
        "# prompt_template = \"\"\"\n",
        "# You are a knowledgeable assistant.\n",
        "# If asked for your name, respond with \"My name is Bob.\"\n",
        "# If you don't know the answer to a question, say \"I don't know.\"\n",
        "# You have access to the following tools:\n",
        "# {context}\n",
        "# Question: {input}\n",
        "# \"\"\"\n",
        "# PROMPT = ChatPromptTemplate.from_template(prompt_template)\n",
        "from langchain_core.prompts import ChatPromptTemplate, MessagesPlaceholder\n",
        "\n",
        "prompt = ChatPromptTemplate.from_messages(\n",
        "    [\n",
        "        (\n",
        "            \"system\",\n",
        "            \"You are very powerful assistant, but your name is bob!\",\n",
        "        ),\n",
        "        (\"user\", \"{input}\"),\n",
        "        MessagesPlaceholder(variable_name=\"agent_scratchpad\"),\n",
        "    ]\n",
        ")\n",
        "agent = initialize_agent(tools, llm, agent=\"zero-shot-react-description\", verbose=True, handle_parsing_errors=True, prompt=prompt)\n",
        "\n",
        "# Test the agent with a question about its name\n",
        "response = agent.invoke(\"What is your name\")\n",
        "print(response)\n"
      ],
      "metadata": {
        "colab": {
          "base_uri": "https://localhost:8080/"
        },
        "id": "wheE-g0CejZu",
        "outputId": "0b79540e-f52c-4747-823c-fad4a80ce337"
      },
      "execution_count": 173,
      "outputs": [
        {
          "output_type": "stream",
          "name": "stdout",
          "text": [
            "\n",
            "\n",
            "\u001b[1m> Entering new AgentExecutor chain...\u001b[0m\n",
            "\u001b[32;1m\u001b[1;3mAction: wikipedia\n",
            "Action Input: What is your name\u001b[0m\n",
            "Observation: \u001b[33;1m\u001b[1;3mPage: What's Your Name?\n",
            "Summary: What's Your Name? is the third studio album by Adam Sandler, releas\u001b[0m\n",
            "Thought:\u001b[32;1m\u001b[1;3mI do not have a name.\n",
            "Final Answer: I do not have a name.\u001b[0m\n",
            "\n",
            "\u001b[1m> Finished chain.\u001b[0m\n",
            "{'input': 'What is your name', 'output': 'I do not have a name.'}\n"
          ]
        }
      ]
    },
    {
      "cell_type": "code",
      "source": [],
      "metadata": {
        "id": "Ag_e0z1pgqYa"
      },
      "execution_count": null,
      "outputs": []
    }
  ]
}
