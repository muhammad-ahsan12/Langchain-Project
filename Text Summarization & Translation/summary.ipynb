{
 "cells": [
  {
   "cell_type": "code",
   "execution_count": 21,
   "metadata": {},
   "outputs": [],
   "source": [
    "from langchain_google_genai import ChatGoogleGenerativeAI, GoogleGenerativeAIEmbeddings\n",
    "from langchain.prompts import PromptTemplate\n",
    "from langchain.chains import LLMChain\n",
    "import os"
   ]
  },
  {
   "cell_type": "code",
   "execution_count": 2,
   "metadata": {},
   "outputs": [],
   "source": [
    "os.environ['GOOGLE_API_KEY'] = 'Enter_Google_api_key'"
   ]
  },
  {
   "cell_type": "code",
   "execution_count": 31,
   "metadata": {},
   "outputs": [],
   "source": [
    "template = \"\"\"you are a helpful assistant ,\n",
    "translate the following {speech} into {Language}.\"\"\"\n",
    "prompt = PromptTemplate(\n",
    "    input_variables=[\"speech\",\"Language\"],\n",
    "    template=template\n",
    ")\n"
   ]
  },
  {
   "cell_type": "code",
   "execution_count": 32,
   "metadata": {},
   "outputs": [],
   "source": [
    "speech = \"\"\"By the early 1980s Khan had distinguished himself as an exceptional bowler and all-rounder, \n",
    "and he was named captain of the Pakistani team in 1982.\n",
    "Khan's athletic talent and good looks made him a celebrity in Pakistan and England,\n",
    "and his regular appearances at fashionable London nightclubs provided fodder for the British tabloid press.\n",
    "In 1992 Khan achieved his greatest athletic success when he led the Pakistani team to its first World Cup title, \n",
    "defeating England in the final. He retired that same year,\n",
    "having secured a reputation as one of the greatest cricket players in history.\"\"\""
   ]
  },
  {
   "cell_type": "code",
   "execution_count": 33,
   "metadata": {},
   "outputs": [],
   "source": [
    "llm = ChatGoogleGenerativeAI(model='gemini-1.5-pro')"
   ]
  },
  {
   "cell_type": "code",
   "execution_count": 34,
   "metadata": {},
   "outputs": [],
   "source": [
    "LM = LLMChain(llm=llm,prompt=prompt)\n",
    "text = LM.run({\"speech\":speech,\"Language\":\"Urdu\"})"
   ]
  },
  {
   "cell_type": "code",
   "execution_count": 35,
   "metadata": {},
   "outputs": [
    {
     "name": "stdout",
     "output_type": "stream",
     "text": [
      "1980ء کی دہائی کے اوائل تک، عمران خان ایک غیر معمولی باؤلر اور آل راؤنڈر کے طور پر اپنی پہچان بنا چکے تھے، اور 1982ء میں انہیں پاکستانی ٹیم کا کپتان مقرر کیا گیا۔ ان کے ایتھلیٹک ٹیلنٹ اور وجیہہ شخصیت نے انہیں پاکستان اور انگلینڈ میں ایک مشہور شخصیت بنا دیا، اور لندن کے فیشن ایبل نائٹ کلبوں میں ان کی باقاعدہ حاضری برطانوی ٹیبلوئڈ پریس کے لیے خبروں کا سامان فراہم کرتی رہی۔ 1992ء میں عمران خان نے اپنی سب سے بڑی کامیابی حاصل کی جب انہوں نے پاکستانی ٹیم کو پہلی بار ورلڈ کپ کا ٹائٹل دلوایا، فائنل میں انگلینڈ کو شکست دی۔ اسی سال انہوں نے ریٹائرمنٹ لے لی، اور تاریخ کے عظیم ترین کرکٹ کھلاڑیوں میں سے ایک کے طور پر اپنا نام روشن کیا۔ \n",
      "\n"
     ]
    }
   ],
   "source": [
    "print(text)"
   ]
  },
  {
   "cell_type": "code",
   "execution_count": null,
   "metadata": {},
   "outputs": [],
   "source": []
  }
 ],
 "metadata": {
  "kernelspec": {
   "display_name": "Python 3",
   "language": "python",
   "name": "python3"
  },
  "language_info": {
   "codemirror_mode": {
    "name": "ipython",
    "version": 3
   },
   "file_extension": ".py",
   "mimetype": "text/x-python",
   "name": "python",
   "nbconvert_exporter": "python",
   "pygments_lexer": "ipython3",
   "version": "3.11.3"
  }
 },
 "nbformat": 4,
 "nbformat_minor": 2
}
